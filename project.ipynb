{
 "cells": [
  {
   "cell_type": "markdown",
   "metadata": {},
   "source": [
    "# Text Preprocessing"
   ]
  },
  {
   "cell_type": "code",
   "execution_count": 2,
   "metadata": {},
   "outputs": [],
   "source": [
    "from sklearn.feature_extraction.text import TfidfVectorizer, CountVectorizer\n",
    "import numpy as np\n",
    "from gensim.models import Word2Vec\n",
    "import re\n",
    "\n",
    "class TextPreprocessor:\n",
    "    def __init__(self):\n",
    "        pass\n",
    "        \n",
    "    def clean_text(self, text):\n",
    "        if isinstance(text, float):\n",
    "            return \"\"\n",
    "        text = text.lower()\n",
    "        # https://medium.com/@siddharthgov01/regular-expressions-from-a-za-z-88cf9cf0abac\n",
    "        text = re.sub(r'[^a-zA-Z\\s]', '', text)\n",
    "        return text\n",
    "    \n",
    "\n",
    "    # https://pages.github.rpi.edu/kuruzj/website_introml_rpi/notebooks/08-intro-nlp/03-scikit-learn-text.html#bag-of-words-using-scikit-learn\n",
    "    def get_bow_features(self, texts, max_features=5000):\n",
    "        vectorizer = CountVectorizer(max_features=max_features)\n",
    "        return vectorizer.fit_transform(texts)\n",
    "\n",
    "    # https://pages.github.rpi.edu/kuruzj/website_introml_rpi/notebooks/08-intro-nlp/03-scikit-learn-text.html#tf-idf-encoding\n",
    "    def get_tfidf_features(self, texts, max_features=5000):\n",
    "        vectorizer = TfidfVectorizer(max_features=max_features)\n",
    "        return vectorizer.fit_transform(texts)\n",
    " \n",
    "    # https://radimrehurek.com/gensim/models/word2vec.html\n",
    "    def get_word2vec_features(self, texts, vector_size=100, window=5, min_count=1, workers=4):\n",
    "        processed_texts = []\n",
    "        for text in texts:\n",
    "            if isinstance(text, str):\n",
    "                cleaned = self.clean_text(text)\n",
    "                tokens = cleaned.split()\n",
    "                processed_texts.append(tokens)\n",
    "\n",
    "        model = Word2Vec(\n",
    "            sentences=processed_texts,\n",
    "            vector_size=vector_size,\n",
    "            window=window,\n",
    "            min_count=min_count,\n",
    "            workers=workers\n",
    "        )\n",
    "        \n",
    "        return model\n",
    "\n",
    "    def get_text_vector(self, text, word2vec_model):\n",
    "        tokens = self.clean_text(text).split()\n",
    "        vectors = []\n",
    "        for token in tokens:\n",
    "            if token in word2vec_model.wv:\n",
    "                vectors.append(word2vec_model.wv[token])\n",
    "                \n",
    "        if vectors:\n",
    "            return np.mean(vectors, axis=0)\n",
    "        return np.zeros(word2vec_model.vector_size)\n",
    "\n",
    "import pandas as pd\n",
    "train_df = pd.read_csv('train.csv')\n",
    "test_df = pd.read_csv('test.csv')\n",
    "\n",
    "\n"
   ]
  },
  {
   "cell_type": "markdown",
   "metadata": {},
   "source": [
    "# Linear Regression with TI-IDF Word Processor"
   ]
  },
  {
   "cell_type": "code",
   "execution_count": 2,
   "metadata": {},
   "outputs": [
    {
     "name": "stdout",
     "output_type": "stream",
     "text": [
      "Accuracy: 50.91%\n",
      "\n",
      "Classification Report:\n",
      "              precision    recall  f1-score   support\n",
      "\n",
      "           0       0.63      0.04      0.08      2077\n",
      "           1       0.51      0.98      0.67      2083\n",
      "\n",
      "    accuracy                           0.51      4160\n",
      "   macro avg       0.57      0.51      0.37      4160\n",
      "weighted avg       0.57      0.51      0.37      4160\n",
      "\n"
     ]
    }
   ],
   "source": [
    "\n",
    "from sklearn.linear_model import LogisticRegression\n",
    "from sklearn.model_selection import train_test_split\n",
    "from sklearn.metrics import accuracy_score, classification_report\n",
    "from sklearn.preprocessing import StandardScaler\n",
    "from sklearn.svm import SVC\n",
    "\n",
    "preprocessor = TextPreprocessor()\n",
    "train_texts = train_df['text'].apply(preprocessor.clean_text)\n",
    "train_labels = train_df['label']\n",
    "\n",
    "X_train, X_test, y_train, y_test = train_test_split(train_texts, train_labels, test_size=0.2, random_state=42, stratify=train_labels)\n",
    "\n",
    "X_train_tfidf = preprocessor.get_tfidf_features(X_train)\n",
    "X_test_tfidf = preprocessor.get_tfidf_features(X_test)\n",
    "\n",
    "lr_classifier = LogisticRegression(max_iter=1000, C=5.0, penalty='l2', random_state=42 )\n",
    "\n",
    "\n",
    "lr_classifier.fit(X_train_tfidf, y_train)\n",
    "\n",
    "\n",
    "y_pred = lr_classifier.predict(X_test_tfidf)\n",
    "\n",
    "\n",
    "accuracy = accuracy_score(y_test, y_pred)\n",
    "print(f\"Accuracy: {accuracy * 100:.2f}%\")\n",
    "\n",
    "\n",
    "print(\"\\nClassification Report:\")\n",
    "print(classification_report(y_test, y_pred))"
   ]
  },
  {
   "cell_type": "markdown",
   "metadata": {},
   "source": [
    "# Linear Regression with BOW"
   ]
  },
  {
   "cell_type": "code",
   "execution_count": 4,
   "metadata": {},
   "outputs": [
    {
     "name": "stdout",
     "output_type": "stream",
     "text": [
      "Accuracy: 59.88%\n",
      "\n",
      "Classification Report:\n",
      "              precision    recall  f1-score   support\n",
      "\n",
      "           0       0.57      0.79      0.66      2077\n",
      "           1       0.66      0.40      0.50      2083\n",
      "\n",
      "    accuracy                           0.60      4160\n",
      "   macro avg       0.62      0.60      0.58      4160\n",
      "weighted avg       0.62      0.60      0.58      4160\n",
      "\n"
     ]
    }
   ],
   "source": [
    "from sklearn.linear_model import LogisticRegression\n",
    "from sklearn.model_selection import train_test_split\n",
    "from sklearn.metrics import accuracy_score, classification_report\n",
    "\n",
    "\n",
    "preprocessor = TextPreprocessor()\n",
    "train_texts = train_df['text'].apply(preprocessor.clean_text)\n",
    "train_labels = train_df['label']\n",
    "\n",
    "X_train, X_test, y_train, y_test = train_test_split(train_texts, train_labels, test_size=0.2, random_state=42, stratify=train_labels)\n",
    "\n",
    "X_train_tfidf = preprocessor.get_bow_features(X_train)\n",
    "X_test_tfidf = preprocessor.get_bow_features (X_test)\n",
    "\n",
    "lr_classifier = LogisticRegression(max_iter=1000, C=5.0, penalty='l2', random_state=42 )\n",
    "\n",
    "\n",
    "\n",
    "lr_classifier.fit(X_train_tfidf, y_train)\n",
    "\n",
    "\n",
    "y_pred = lr_classifier.predict(X_test_tfidf)\n",
    "\n",
    "\n",
    "accuracy = accuracy_score(y_test, y_pred)\n",
    "print(f\"Accuracy: {accuracy * 100:.2f}%\")\n",
    "\n",
    "\n",
    "print(\"\\nClassification Report:\")\n",
    "print(classification_report(y_test, y_pred))"
   ]
  },
  {
   "cell_type": "markdown",
   "metadata": {},
   "source": [
    "# Linear Regression with Word2vec Embedding"
   ]
  },
  {
   "cell_type": "code",
   "execution_count": null,
   "metadata": {},
   "outputs": [
    {
     "name": "stdout",
     "output_type": "stream",
     "text": [
      "Train Accuracy: 89.39%\n",
      "Test Accuracy: 88.32%\n",
      "\n",
      "Classification Report:\n",
      "              precision    recall  f1-score   support\n",
      "\n",
      "           0       0.88      0.90      0.89      2077\n",
      "           1       0.89      0.87      0.88      2083\n",
      "\n",
      "    accuracy                           0.88      4160\n",
      "   macro avg       0.88      0.88      0.88      4160\n",
      "weighted avg       0.88      0.88      0.88      4160\n",
      "\n"
     ]
    },
    {
     "name": "stderr",
     "output_type": "stream",
     "text": [
      "/home/kevin/.local/lib/python3.10/site-packages/sklearn/linear_model/_sag.py:349: ConvergenceWarning: The max_iter was reached which means the coef_ did not converge\n",
      "  warnings.warn(\n"
     ]
    }
   ],
   "source": [
    "from sklearn.linear_model import LogisticRegression\n",
    "from sklearn.model_selection import train_test_split\n",
    "from sklearn.metrics import accuracy_score, classification_report\n",
    "\n",
    "\n",
    "preprocessor = TextPreprocessor()\n",
    "train_texts = train_df['text'].apply(preprocessor.clean_text)\n",
    "train_labels = train_df['label']\n",
    "\n",
    "X_train, X_test, y_train, y_test = train_test_split(train_texts, train_labels, test_size=0.2, random_state=42, stratify=train_labels)\n",
    "\n",
    "X_train_text_vectors = []\n",
    "X_test_text_vectors = []\n",
    "\n",
    "word2vec_model = preprocessor.get_word2vec_features(X_train)\n",
    "\n",
    "for text in X_train:\n",
    "    text_vector = preprocessor.get_text_vector(text, word2vec_model)\n",
    "    X_train_text_vectors.append(text_vector)\n",
    "    \n",
    "for text in X_test:\n",
    "    text_vector = preprocessor.get_text_vector(text, word2vec_model)\n",
    "    X_test_text_vectors.append(text_vector)\n",
    "\n",
    "X_train_text_vectors = pd.DataFrame(X_train_text_vectors)\n",
    "X_test_text_vectors = pd.DataFrame(X_test_text_vectors)\n",
    "\n",
    "lr_classifier = LogisticRegression(max_iter=1000, C=5.0, penalty='l2', solver=\"saga\", random_state=42)\n",
    "\n",
    "lr_classifier.fit(X_train_text_vectors, y_train)\n",
    "\n",
    "y_train_pred = lr_classifier.predict(X_train_text_vectors)\n",
    "y_test_pred = lr_classifier.predict(X_test_text_vectors)\n",
    "\n",
    "train_accuracy = accuracy_score(y_train, y_train_pred)\n",
    "test_accuracy = accuracy_score(y_test, y_test_pred)\n",
    "print(f\"Train Accuracy: {train_accuracy * 100:.2f}%\")\n",
    "print(f\"Test Accuracy: {test_accuracy * 100:.2f}%\")\n",
    "\n",
    "print(\"\\nClassification Report:\")\n",
    "print(classification_report(y_test, y_pred))"
   ]
  },
  {
   "cell_type": "markdown",
   "metadata": {},
   "source": [
    "# MLP Model with BOW"
   ]
  },
  {
   "cell_type": "code",
   "execution_count": 3,
   "metadata": {},
   "outputs": [
    {
     "name": "stderr",
     "output_type": "stream",
     "text": [
      "/home/kevin/.local/lib/python3.10/site-packages/keras/src/layers/core/dense.py:87: UserWarning: Do not pass an `input_shape`/`input_dim` argument to a layer. When using Sequential models, prefer using an `Input(shape)` object as the first layer in the model instead.\n",
      "  super().__init__(activity_regularizer=activity_regularizer, **kwargs)\n",
      "2024-11-28 19:06:29.053039: E external/local_xla/xla/stream_executor/cuda/cuda_driver.cc:152] failed call to cuInit: INTERNAL: CUDA error: Failed call to cuInit: CUDA_ERROR_NO_DEVICE: no CUDA-capable device is detected\n",
      "2024-11-28 19:06:31.162070: W external/local_xla/xla/tsl/framework/cpu_allocator_impl.cc:83] Allocation of 532480000 exceeds 10% of free system memory.\n"
     ]
    },
    {
     "name": "stdout",
     "output_type": "stream",
     "text": [
      "Epoch 1/10\n",
      "\u001b[1m414/416\u001b[0m \u001b[32m━━━━━━━━━━━━━━━━━━━\u001b[0m\u001b[37m━\u001b[0m \u001b[1m0s\u001b[0m 22ms/step - accuracy: 0.8510 - loss: 0.3732"
     ]
    },
    {
     "name": "stderr",
     "output_type": "stream",
     "text": [
      "2024-11-28 19:06:55.443060: W external/local_xla/xla/tsl/framework/cpu_allocator_impl.cc:83] Allocation of 133120000 exceeds 10% of free system memory.\n"
     ]
    },
    {
     "name": "stdout",
     "output_type": "stream",
     "text": [
      "\u001b[1m416/416\u001b[0m \u001b[32m━━━━━━━━━━━━━━━━━━━━\u001b[0m\u001b[37m\u001b[0m \u001b[1m16s\u001b[0m 28ms/step - accuracy: 0.8513 - loss: 0.3726 - val_accuracy: 0.9396 - val_loss: 0.1747\n",
      "Epoch 2/10\n",
      "\u001b[1m416/416\u001b[0m \u001b[32m━━━━━━━━━━━━━━━━━━━━\u001b[0m\u001b[37m\u001b[0m \u001b[1m10s\u001b[0m 23ms/step - accuracy: 0.9617 - loss: 0.1160 - val_accuracy: 0.9384 - val_loss: 0.1863\n",
      "Epoch 3/10\n",
      "\u001b[1m416/416\u001b[0m \u001b[32m━━━━━━━━━━━━━━━━━━━━\u001b[0m\u001b[37m\u001b[0m \u001b[1m14s\u001b[0m 33ms/step - accuracy: 0.9727 - loss: 0.0827 - val_accuracy: 0.9489 - val_loss: 0.1670\n",
      "Epoch 4/10\n",
      "\u001b[1m416/416\u001b[0m \u001b[32m━━━━━━━━━━━━━━━━━━━━\u001b[0m\u001b[37m\u001b[0m \u001b[1m9s\u001b[0m 21ms/step - accuracy: 0.9913 - loss: 0.0289 - val_accuracy: 0.9504 - val_loss: 0.1974\n",
      "Epoch 5/10\n",
      "\u001b[1m416/416\u001b[0m \u001b[32m━━━━━━━━━━━━━━━━━━━━\u001b[0m\u001b[37m\u001b[0m \u001b[1m9s\u001b[0m 21ms/step - accuracy: 0.9919 - loss: 0.0299 - val_accuracy: 0.9453 - val_loss: 0.2170\n",
      "Epoch 6/10\n",
      "\u001b[1m416/416\u001b[0m \u001b[32m━━━━━━━━━━━━━━━━━━━━\u001b[0m\u001b[37m\u001b[0m \u001b[1m8s\u001b[0m 20ms/step - accuracy: 0.9891 - loss: 0.0393 - val_accuracy: 0.9483 - val_loss: 0.2772\n",
      "Epoch 7/10\n",
      "\u001b[1m416/416\u001b[0m \u001b[32m━━━━━━━━━━━━━━━━━━━━\u001b[0m\u001b[37m\u001b[0m \u001b[1m8s\u001b[0m 20ms/step - accuracy: 0.9907 - loss: 0.0306 - val_accuracy: 0.9564 - val_loss: 0.2610\n",
      "Epoch 8/10\n",
      "\u001b[1m416/416\u001b[0m \u001b[32m━━━━━━━━━━━━━━━━━━━━\u001b[0m\u001b[37m\u001b[0m \u001b[1m9s\u001b[0m 20ms/step - accuracy: 0.9972 - loss: 0.0108 - val_accuracy: 0.9540 - val_loss: 0.2523\n",
      "Epoch 9/10\n",
      "\u001b[1m416/416\u001b[0m \u001b[32m━━━━━━━━━━━━━━━━━━━━\u001b[0m\u001b[37m\u001b[0m \u001b[1m9s\u001b[0m 20ms/step - accuracy: 0.9953 - loss: 0.0137 - val_accuracy: 0.9531 - val_loss: 0.2313\n",
      "Epoch 10/10\n",
      "\u001b[1m416/416\u001b[0m \u001b[32m━━━━━━━━━━━━━━━━━━━━\u001b[0m\u001b[37m\u001b[0m \u001b[1m8s\u001b[0m 20ms/step - accuracy: 0.9962 - loss: 0.0137 - val_accuracy: 0.9492 - val_loss: 0.2547\n",
      "\u001b[1m  9/130\u001b[0m \u001b[32m━\u001b[0m\u001b[37m━━━━━━━━━━━━━━━━━━━\u001b[0m \u001b[1m0s\u001b[0m 8ms/step  "
     ]
    },
    {
     "name": "stderr",
     "output_type": "stream",
     "text": [
      "2024-11-28 19:08:20.524111: W external/local_xla/xla/tsl/framework/cpu_allocator_impl.cc:83] Allocation of 166400000 exceeds 10% of free system memory.\n"
     ]
    },
    {
     "name": "stdout",
     "output_type": "stream",
     "text": [
      "\u001b[1m130/130\u001b[0m \u001b[32m━━━━━━━━━━━━━━━━━━━━\u001b[0m\u001b[37m\u001b[0m \u001b[1m1s\u001b[0m 6ms/step\n",
      "Accuracy: 0.5014423076923077\n",
      "              precision    recall  f1-score   support\n",
      "\n",
      "           0       0.51      0.06      0.11      2077\n",
      "           1       0.50      0.94      0.65      2083\n",
      "\n",
      "    accuracy                           0.50      4160\n",
      "   macro avg       0.50      0.50      0.38      4160\n",
      "weighted avg       0.50      0.50      0.38      4160\n",
      "\n"
     ]
    }
   ],
   "source": [
    "import keras\n",
    "import numpy as np\n",
    "import pandas as pd\n",
    "from sklearn.model_selection import train_test_split\n",
    "from sklearn.feature_extraction.text import TfidfVectorizer\n",
    "from keras.layers import Dense, Dropout\n",
    "from keras.models import Sequential\n",
    "from sklearn.metrics import accuracy_score, classification_report\n",
    "\n",
    "# Source https://www.tensorflow.org/text/tutorials/text_classification_rnn\n",
    "\n",
    "preprocessor = TextPreprocessor()\n",
    "\n",
    "train_df = pd.read_csv('train.csv')\n",
    "train_texts = train_df['text'].apply(preprocessor.clean_text)\n",
    "train_labels = train_df['label']\n",
    "\n",
    "\n",
    "X_train, X_test, y_train, y_test = train_test_split(train_texts, train_labels, test_size=0.2, random_state=42, stratify=train_labels)\n",
    "\n",
    "X_train_bow = preprocessor.get_bow_features(X_train).toarray()\n",
    "X_test_bow = preprocessor.get_bow_features (X_test).toarray()\n",
    "\n",
    "num_classes = len(set(train_labels))\n",
    "y_train_encoded = keras.utils.to_categorical(y_train, num_classes)\n",
    "y_test_encoded = keras.utils.to_categorical(y_test, num_classes)\n",
    "\n",
    "model = Sequential()\n",
    "model.add(Dense(128, activation='relu', input_shape=(X_train_bow.shape[1],)))\n",
    "model.add(Dropout(0.3))  \n",
    "model.add(Dense(64, activation='relu'))\n",
    "model.add(Dense(num_classes, activation='softmax'))\n",
    "\n",
    "model.compile(loss='categorical_crossentropy', optimizer= \"Adam\", metrics=['accuracy'])\n",
    "\n",
    "\n",
    "model.fit(\n",
    "    X_train_bow,\n",
    "    y_train_encoded,\n",
    "    batch_size=32,\n",
    "    epochs=10,\n",
    "    validation_split=0.2\n",
    ")\n",
    "\n",
    "\n",
    "y_pred_prob = model.predict(X_test_bow)  \n",
    "y_pred = np.argmax(y_pred_prob, axis=1)   \n",
    "y_test_labels = np.argmax(y_test_encoded, axis=1) \n",
    "\n",
    "print(\"Accuracy:\",  accuracy_score(y_test_labels, y_pred))\n",
    "print(classification_report(y_test_labels, y_pred))\n"
   ]
  },
  {
   "cell_type": "markdown",
   "metadata": {},
   "source": [
    "# BiLSTM Model with TDIDF "
   ]
  },
  {
   "cell_type": "code",
   "execution_count": null,
   "metadata": {},
   "outputs": [
    {
     "name": "stderr",
     "output_type": "stream",
     "text": [
      "2024-11-28 15:40:16.984818: E external/local_xla/xla/stream_executor/cuda/cuda_fft.cc:477] Unable to register cuFFT factory: Attempting to register factory for plugin cuFFT when one has already been registered\n",
      "WARNING: All log messages before absl::InitializeLog() is called are written to STDERR\n",
      "E0000 00:00:1732837217.632622   21194 cuda_dnn.cc:8310] Unable to register cuDNN factory: Attempting to register factory for plugin cuDNN when one has already been registered\n",
      "E0000 00:00:1732837217.914678   21194 cuda_blas.cc:1418] Unable to register cuBLAS factory: Attempting to register factory for plugin cuBLAS when one has already been registered\n",
      "2024-11-28 15:40:18.668932: I tensorflow/core/platform/cpu_feature_guard.cc:210] This TensorFlow binary is optimized to use available CPU instructions in performance-critical operations.\n",
      "To enable the following instructions: AVX2 FMA, in other operations, rebuild TensorFlow with the appropriate compiler flags.\n",
      "/home/kevin/.local/lib/python3.10/site-packages/keras/src/layers/core/dense.py:87: UserWarning: Do not pass an `input_shape`/`input_dim` argument to a layer. When using Sequential models, prefer using an `Input(shape)` object as the first layer in the model instead.\n",
      "  super().__init__(activity_regularizer=activity_regularizer, **kwargs)\n",
      "2024-11-28 15:41:03.648396: E external/local_xla/xla/stream_executor/cuda/cuda_driver.cc:152] failed call to cuInit: INTERNAL: CUDA error: Failed call to cuInit: CUDA_ERROR_NO_DEVICE: no CUDA-capable device is detected\n"
     ]
    },
    {
     "name": "stdout",
     "output_type": "stream",
     "text": [
      "Epoch 1/10\n"
     ]
    },
    {
     "name": "stderr",
     "output_type": "stream",
     "text": [
      "2024-11-28 15:41:10.198319: W external/local_xla/xla/tsl/framework/cpu_allocator_impl.cc:83] Allocation of 266240000 exceeds 10% of free system memory.\n"
     ]
    },
    {
     "name": "stdout",
     "output_type": "stream",
     "text": [
      "\u001b[1m415/416\u001b[0m \u001b[32m━━━━━━━━━━━━━━━━━━━\u001b[0m\u001b[37m━\u001b[0m \u001b[1m0s\u001b[0m 18ms/step - accuracy: 0.8262 - loss: 0.3590"
     ]
    },
    {
     "name": "stderr",
     "output_type": "stream",
     "text": [
      "2024-11-28 15:41:28.388313: W external/local_xla/xla/tsl/framework/cpu_allocator_impl.cc:83] Allocation of 66560000 exceeds 10% of free system memory.\n"
     ]
    },
    {
     "name": "stdout",
     "output_type": "stream",
     "text": [
      "\u001b[1m416/416\u001b[0m \u001b[32m━━━━━━━━━━━━━━━━━━━━\u001b[0m\u001b[37m\u001b[0m \u001b[1m14s\u001b[0m 29ms/step - accuracy: 0.8266 - loss: 0.3584 - val_accuracy: 0.9459 - val_loss: 0.1389\n",
      "Epoch 2/10\n",
      "\u001b[1m416/416\u001b[0m \u001b[32m━━━━━━━━━━━━━━━━━━━━\u001b[0m\u001b[37m\u001b[0m \u001b[1m7s\u001b[0m 16ms/step - accuracy: 0.9779 - loss: 0.0634 - val_accuracy: 0.9453 - val_loss: 0.1533\n",
      "Epoch 3/10\n",
      "\u001b[1m416/416\u001b[0m \u001b[32m━━━━━━━━━━━━━━━━━━━━\u001b[0m\u001b[37m\u001b[0m \u001b[1m7s\u001b[0m 17ms/step - accuracy: 0.9943 - loss: 0.0237 - val_accuracy: 0.9441 - val_loss: 0.1820\n",
      "Epoch 4/10\n",
      "\u001b[1m416/416\u001b[0m \u001b[32m━━━━━━━━━━━━━━━━━━━━\u001b[0m\u001b[37m\u001b[0m \u001b[1m7s\u001b[0m 18ms/step - accuracy: 0.9972 - loss: 0.0111 - val_accuracy: 0.9417 - val_loss: 0.2199\n",
      "Epoch 5/10\n",
      "\u001b[1m416/416\u001b[0m \u001b[32m━━━━━━━━━━━━━━━━━━━━\u001b[0m\u001b[37m\u001b[0m \u001b[1m8s\u001b[0m 20ms/step - accuracy: 0.9996 - loss: 0.0037 - val_accuracy: 0.9447 - val_loss: 0.2642\n",
      "Epoch 6/10\n",
      "\u001b[1m416/416\u001b[0m \u001b[32m━━━━━━━━━━━━━━━━━━━━\u001b[0m\u001b[37m\u001b[0m \u001b[1m11s\u001b[0m 27ms/step - accuracy: 0.9997 - loss: 0.0020 - val_accuracy: 0.9414 - val_loss: 0.2834\n",
      "Epoch 7/10\n",
      "\u001b[1m416/416\u001b[0m \u001b[32m━━━━━━━━━━━━━━━━━━━━\u001b[0m\u001b[37m\u001b[0m \u001b[1m13s\u001b[0m 30ms/step - accuracy: 1.0000 - loss: 9.2378e-04 - val_accuracy: 0.9405 - val_loss: 0.3072\n",
      "Epoch 8/10\n",
      "\u001b[1m416/416\u001b[0m \u001b[32m━━━━━━━━━━━━━━━━━━━━\u001b[0m\u001b[37m\u001b[0m \u001b[1m12s\u001b[0m 29ms/step - accuracy: 0.9969 - loss: 0.0087 - val_accuracy: 0.9360 - val_loss: 0.2971\n",
      "Epoch 9/10\n",
      "\u001b[1m416/416\u001b[0m \u001b[32m━━━━━━━━━━━━━━━━━━━━\u001b[0m\u001b[37m\u001b[0m \u001b[1m11s\u001b[0m 27ms/step - accuracy: 0.9984 - loss: 0.0046 - val_accuracy: 0.9405 - val_loss: 0.2959\n",
      "Epoch 10/10\n",
      "\u001b[1m416/416\u001b[0m \u001b[32m━━━━━━━━━━━━━━━━━━━━\u001b[0m\u001b[37m\u001b[0m \u001b[1m12s\u001b[0m 28ms/step - accuracy: 0.9990 - loss: 0.0034 - val_accuracy: 0.9411 - val_loss: 0.3254\n"
     ]
    },
    {
     "name": "stderr",
     "output_type": "stream",
     "text": [
      "2024-11-28 15:42:59.880436: W external/local_xla/xla/tsl/framework/cpu_allocator_impl.cc:83] Allocation of 83200000 exceeds 10% of free system memory.\n"
     ]
    },
    {
     "name": "stdout",
     "output_type": "stream",
     "text": [
      "\u001b[1m130/130\u001b[0m \u001b[32m━━━━━━━━━━━━━━━━━━━━\u001b[0m\u001b[37m\u001b[0m \u001b[1m2s\u001b[0m 12ms/step\n",
      "Accuracy: 0.5620192307692308\n",
      "              precision    recall  f1-score   support\n",
      "\n",
      "           0       0.56      0.57      0.56      2077\n",
      "           1       0.56      0.56      0.56      2083\n",
      "\n",
      "    accuracy                           0.56      4160\n",
      "   macro avg       0.56      0.56      0.56      4160\n",
      "weighted avg       0.56      0.56      0.56      4160\n",
      "\n"
     ]
    }
   ],
   "source": [
    "import keras\n",
    "import numpy as np\n",
    "import pandas as pd\n",
    "from sklearn.model_selection import train_test_split\n",
    "from sklearn.feature_extraction.text import TfidfVectorizer\n",
    "from keras.layers import Dense, Dropout\n",
    "from keras.models import Sequential\n",
    "from sklearn.metrics import accuracy_score, classification_report\n",
    "\n",
    "# Source https://www.tensorflow.org/text/tutorials/text_classification_rnn\n",
    "\n",
    "preprocessor = TextPreprocessor()\n",
    "\n",
    "train_df = pd.read_csv('train.csv')\n",
    "train_texts = train_df['text'].apply(preprocessor.clean_text)\n",
    "train_labels = train_df['label']\n",
    "\n",
    "\n",
    "X_train, X_test, y_train, y_test = train_test_split(\n",
    "    train_texts, train_labels, test_size=0.2, random_state=42, stratify=train_labels\n",
    ")\n",
    "\n",
    "\n",
    "X_train_tfidf = preprocessor.get_tfidf_features(X_train).toarray()\n",
    "X_test_tfidf = preprocessor.get_tfidf_features(X_test).toarray()\n",
    "\n",
    "num_classes = len(set(train_labels))\n",
    "y_train_encoded = keras.utils.to_categorical(y_train, num_classes)\n",
    "y_test_encoded = keras.utils.to_categorical(y_test, num_classes)\n",
    "\n",
    "\n",
    "model = Sequential()\n",
    "model.add(Dense(128, activation='relu', input_shape=(X_train_tfidf.shape[1],)))\n",
    "model.add(Dropout(0.3))  \n",
    "model.add(Dense(64, activation='relu'))\n",
    "model.add(Dense(num_classes, activation='softmax'))\n",
    "\n",
    "model.compile(loss='categorical_crossentropy', optimizer='adam', metrics=['accuracy'])\n",
    "\n",
    "\n",
    "model.fit(\n",
    "    X_train_tfidf,\n",
    "    y_train_encoded,\n",
    "    batch_size=32,\n",
    "    epochs=10,\n",
    "    validation_split=0.2\n",
    ")\n",
    "\n",
    "\n",
    "y_pred_prob = model.predict(X_test_tfidf)  \n",
    "y_pred = np.argmax(y_pred_prob, axis=1)   \n",
    "y_test_labels = np.argmax(y_test_encoded, axis=1) \n",
    "\n",
    "print(\"Accuracy:\",  accuracy_score(y_test_labels, y_pred))\n",
    "print(classification_report(y_test_labels, y_pred))\n"
   ]
  },
  {
   "cell_type": "markdown",
   "metadata": {},
   "source": [
    "# BiLSTM Model with Word2Vec"
   ]
  },
  {
   "cell_type": "code",
   "execution_count": null,
   "metadata": {},
   "outputs": [],
   "source": [
    "import keras\n",
    "import numpy as np\n",
    "import pandas as pd\n",
    "from sklearn.model_selection import train_test_split\n",
    "from sklearn.feature_extraction.text import TfidfVectorizer\n",
    "from keras.layers import Dense, Dropout, BatchNormalization\n",
    "from keras.models import Sequential\n",
    "from sklearn.metrics import accuracy_score, classification_report\n",
    "\n",
    "# Source https://www.tensorflow.org/text/tutorials/text_classification_rnn\n",
    "\n",
    "preprocessor = TextPreprocessor()\n",
    "\n",
    "train_df = pd.read_csv('train.csv')\n",
    "train_texts = train_df['text'].apply(preprocessor.clean_text)\n",
    "train_labels = train_df['label']\n",
    "\n",
    "\n",
    "X_train, X_test, y_train, y_test = train_test_split(\n",
    "    train_texts, train_labels, test_size=0.2, random_state=42, stratify=train_labels\n",
    ")\n",
    "\n",
    "X_train_text_vectors = []\n",
    "X_test_text_vectors = []\n",
    "\n",
    "word2vec_model = preprocessor.get_word2vec_features(X_train)\n",
    "\n",
    "for text in X_train:\n",
    "    text_vector = preprocessor.get_text_vector(text, word2vec_model)\n",
    "    X_train_text_vectors.append(text_vector)\n",
    "    \n",
    "for text in X_test:\n",
    "    text_vector = preprocessor.get_text_vector(text, word2vec_model)\n",
    "    X_test_text_vectors.append(text_vector)\n",
    "\n",
    "X_train_text_vectors = pd.DataFrame(X_train_text_vectors)\n",
    "X_test_text_vectors = pd.DataFrame(X_test_text_vectors)\n",
    "\n",
    "X_train_word2Vec = X_train_text_vectors.to_numpy()\n",
    "X_test_word2Vec = X_test_text_vectors.to_numpy()\n",
    "\n",
    "\n",
    "\n",
    "\n",
    "num_classes = len(set(train_labels))\n",
    "y_train_encoded = keras.utils.to_categorical(y_train, num_classes)\n",
    "y_test_encoded = keras.utils.to_categorical(y_test, num_classes)\n",
    "\n",
    "\n",
    "\n",
    "model = Sequential()\n",
    "model.add(Dense(128, activation='relu', input_shape=(X_train_word2Vec.shape[1],)))\n",
    "model.add(BatchNormalization())  # Add batch normalization\n",
    "model.add(Dropout(0.3))\n",
    "model.add(Dense(64, activation='relu'))\n",
    "model.add(Dense(num_classes, activation='softmax'))\n",
    "\n",
    "\n",
    "model.compile(loss='categorical_crossentropy', optimizer='adam', metrics=['accuracy'])\n",
    "\n",
    "\n",
    "model.fit(\n",
    "    X_train_word2Vec,\n",
    "    y_train_encoded,\n",
    "    batch_size=32,\n",
    "    epochs=50,\n",
    "    validation_split=0.2\n",
    ")\n",
    "\n",
    "\n",
    "y_pred_prob = model.predict(X_test_word2Vec) \n",
    "y_pred = np.argmax(y_pred_prob, axis=1)   \n",
    "y_test_labels = np.argmax(y_test_encoded, axis=1) \n",
    "\n",
    "\n",
    "print(\"Accuracy:\", accuracy_score(y_test_labels, y_pred))\n",
    "print(classification_report(y_test_labels, y_pred))\n"
   ]
  },
  {
   "cell_type": "markdown",
   "metadata": {},
   "source": [
    "# BiLSTM Model"
   ]
  },
  {
   "cell_type": "code",
   "execution_count": null,
   "metadata": {},
   "outputs": [
    {
     "name": "stdout",
     "output_type": "stream",
     "text": [
      "Epoch 1/3\n"
     ]
    },
    {
     "name": "stderr",
     "output_type": "stream",
     "text": [
      "/home/kevin/.local/lib/python3.10/site-packages/keras/src/layers/core/embedding.py:90: UserWarning: Argument `input_length` is deprecated. Just remove it.\n",
      "  warnings.warn(\n"
     ]
    },
    {
     "name": "stdout",
     "output_type": "stream",
     "text": [
      "\u001b[1m416/416\u001b[0m \u001b[32m━━━━━━━━━━━━━━━━━━━━\u001b[0m\u001b[37m\u001b[0m \u001b[1m200s\u001b[0m 460ms/step - accuracy: 0.7829 - loss: 0.4229 - val_accuracy: 0.9303 - val_loss: 0.1759\n",
      "Epoch 2/3\n",
      "\u001b[1m416/416\u001b[0m \u001b[32m━━━━━━━━━━━━━━━━━━━━\u001b[0m\u001b[37m\u001b[0m \u001b[1m170s\u001b[0m 410ms/step - accuracy: 0.9734 - loss: 0.0802 - val_accuracy: 0.9351 - val_loss: 0.1999\n",
      "Epoch 3/3\n",
      "\u001b[1m416/416\u001b[0m \u001b[32m━━━━━━━━━━━━━━━━━━━━\u001b[0m\u001b[37m\u001b[0m \u001b[1m160s\u001b[0m 384ms/step - accuracy: 0.9950 - loss: 0.0182 - val_accuracy: 0.9264 - val_loss: 0.2844\n",
      "\u001b[1m130/130\u001b[0m \u001b[32m━━━━━━━━━━━━━━━━━━━━\u001b[0m\u001b[37m\u001b[0m \u001b[1m10s\u001b[0m 70ms/step\n",
      "Accuracy: 0.9305288461538461\n",
      "              precision    recall  f1-score   support\n",
      "\n",
      "           0       0.90      0.97      0.93      2077\n",
      "           1       0.97      0.89      0.93      2083\n",
      "\n",
      "    accuracy                           0.93      4160\n",
      "   macro avg       0.93      0.93      0.93      4160\n",
      "weighted avg       0.93      0.93      0.93      4160\n",
      "\n"
     ]
    }
   ],
   "source": [
    "import keras\n",
    "import numpy as np\n",
    "import pandas as pd\n",
    "from sklearn.model_selection import train_test_split\n",
    "from keras.layers import Dense, Dropout, Embedding, Bidirectional, LSTM\n",
    "from keras.models import Sequential\n",
    "from sklearn.metrics import accuracy_score, classification_report\n",
    "from tensorflow.keras.preprocessing.text import Tokenizer\n",
    "from tensorflow.keras.utils import pad_sequences\n",
    "\n",
    "# Source https://www.tensorflow.org/text/tutorials/text_classification_rnn\n",
    "\n",
    "preprocessor = TextPreprocessor()\n",
    "tokenizer = Tokenizer()\n",
    "max_sequence_length = 200\n",
    "\n",
    "train_df = pd.read_csv('train.csv')\n",
    "train_texts = train_df['text'].apply(preprocessor.clean_text)\n",
    "train_labels = train_df['label']\n",
    "\n",
    "\n",
    "X_train, X_test, y_train, y_test = train_test_split(train_texts, train_labels, test_size=0.2, random_state=42, stratify=train_labels)\n",
    "\n",
    "tokenizer.fit_on_texts(X_train)\n",
    "X_train_sequences = tokenizer.texts_to_sequences(X_train)\n",
    "X_train_sequences = pad_sequences(X_train_sequences, maxlen=max_sequence_length)\n",
    "\n",
    "X_test_sequences = tokenizer.texts_to_sequences(X_test)\n",
    "X_test_sequences = pad_sequences(X_test_sequences, maxlen=max_sequence_length)\n",
    "\n",
    "\n",
    "X_train_sequences = pd.DataFrame(X_train_sequences)\n",
    "X_test_sequences = pd.DataFrame(X_test_sequences)\n",
    "\n",
    "num_classes = len(set(train_labels))\n",
    "y_train_encoded = keras.utils.to_categorical(y_train, num_classes)\n",
    "y_test_encoded = keras.utils.to_categorical(y_test, num_classes)\n",
    "\n",
    "model = Sequential()\n",
    "model.add(Embedding(input_dim=len(tokenizer.word_index) + 1, output_dim=100, input_length=max_sequence_length))\n",
    "model.add(Bidirectional(LSTM(64, return_sequences=False)))\n",
    "model.add(Dropout(0.3))\n",
    "model.add(Dense(64, activation='relu'))\n",
    "model.add(Dropout(0.3))  \n",
    "model.add(Dense(num_classes, activation='softmax'))\n",
    "\n",
    "model.compile(loss='categorical_crossentropy', optimizer=\"adam\", metrics=['accuracy'])\n",
    "\n",
    "\n",
    "model.fit(\n",
    "    X_train_sequences,\n",
    "    y_train_encoded,\n",
    "    batch_size=32,\n",
    "    epochs=3,\n",
    "    validation_split=0.2\n",
    ")\n",
    "\n",
    "\n",
    "y_pred_prob = model.predict(X_test_sequences)  \n",
    "y_pred = np.argmax(y_pred_prob, axis=1)   \n",
    "y_test_labels = np.argmax(y_test_encoded, axis=1) \n",
    "\n",
    "print(\"Accuracy:\",  accuracy_score(y_test_labels, y_pred))\n",
    "print(classification_report(y_test_labels, y_pred))\n"
   ]
  },
  {
   "cell_type": "code",
   "execution_count": null,
   "metadata": {},
   "outputs": [],
   "source": []
  }
 ],
 "metadata": {
  "kernelspec": {
   "display_name": "Python 3",
   "language": "python",
   "name": "python3"
  },
  "language_info": {
   "codemirror_mode": {
    "name": "ipython",
    "version": 3
   },
   "file_extension": ".py",
   "mimetype": "text/x-python",
   "name": "python",
   "nbconvert_exporter": "python",
   "pygments_lexer": "ipython3",
   "version": "3.10.12"
  }
 },
 "nbformat": 4,
 "nbformat_minor": 2
}
