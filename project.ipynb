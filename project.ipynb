{
 "cells": [
  {
   "cell_type": "markdown",
   "metadata": {},
   "source": [
    "# Text Preprocessing"
   ]
  },
  {
   "cell_type": "code",
   "execution_count": null,
   "metadata": {},
   "outputs": [
    {
     "name": "stdout",
     "output_type": "stream",
     "text": [
      "bow\n",
      "tfidf\n",
      "w2v\n",
      "(20800, 5000) (20800, 5000) Word2Vec<vocab=178605, vector_size=100, alpha=0.025>\n"
     ]
    }
   ],
   "source": [
    "from sklearn.feature_extraction.text import TfidfVectorizer, CountVectorizer\n",
    "import numpy as np\n",
    "from gensim.models import Word2Vec\n",
    "import re\n",
    "\n",
    "class TextPreprocessor:\n",
    "    def __init__(self):\n",
    "        pass\n",
    "        \n",
    "    def clean_text(self, text):\n",
    "        if isinstance(text, float):\n",
    "            return \"\"\n",
    "        text = text.lower()\n",
    "        # https://medium.com/@siddharthgov01/regular-expressions-from-a-za-z-88cf9cf0abac\n",
    "        text = re.sub(r'[^a-zA-Z\\s]', '', text)\n",
    "        return text\n",
    "    \n",
    "\n",
    "    # https://pages.github.rpi.edu/kuruzj/website_introml_rpi/notebooks/08-intro-nlp/03-scikit-learn-text.html#bag-of-words-using-scikit-learn\n",
    "    def get_bow_features(self, texts, max_features=5000):\n",
    "        vectorizer = CountVectorizer(max_features=max_features)\n",
    "        return vectorizer.fit_transform(texts)\n",
    "\n",
    "    # https://pages.github.rpi.edu/kuruzj/website_introml_rpi/notebooks/08-intro-nlp/03-scikit-learn-text.html#tf-idf-encoding\n",
    "    def get_tfidf_features(self, texts, max_features=5000):\n",
    "        vectorizer = TfidfVectorizer(max_features=max_features)\n",
    "        return vectorizer.fit_transform(texts)\n",
    " \n",
    "    # https://radimrehurek.com/gensim/models/word2vec.html\n",
    "    def get_word2vec_features(self, texts, vector_size=100, window=5, min_count=1, workers=4):\n",
    "        processed_texts = []\n",
    "        for text in texts:\n",
    "            if isinstance(text, str):\n",
    "                cleaned = self.clean_text(text)\n",
    "                tokens = cleaned.split()\n",
    "                processed_texts.append(tokens)\n",
    "\n",
    "        model = Word2Vec(\n",
    "            sentences=processed_texts,\n",
    "            vector_size=vector_size,\n",
    "            window=window,\n",
    "            min_count=min_count,\n",
    "            workers=workers\n",
    "        )\n",
    "        \n",
    "        return model\n",
    "\n",
    "    def get_text_vector(self, text, word2vec_model):\n",
    "        tokens = self.clean_text(text).split()\n",
    "        vectors = []\n",
    "        for token in tokens:\n",
    "            if token in word2vec_model.wv:\n",
    "                vectors.append(word2vec_model.wv[token])\n",
    "                \n",
    "        if vectors:\n",
    "            return np.mean(vectors, axis=0)\n",
    "        return np.zeros(word2vec_model.vector_size)\n",
    "\n",
    "import pandas as pd\n",
    "train_df = pd.read_csv('train.csv')\n",
    "test_df = pd.read_csv('test.csv')\n",
    "\n",
    "# preprocessor = TextPreprocessor()\n",
    "\n",
    "# train_texts = train_df['text'].apply(preprocessor.clean_text)\n",
    "\n",
    "# print('bow')\n",
    "# X_bow = preprocessor.get_bow_features(train_texts)\n",
    "# print('tfidf')\n",
    "# X_tfidf = preprocessor.get_tfidf_features(train_texts)\n",
    "# print('w2v')\n",
    "# X_w2v = preprocessor.get_word2vec_features(train_texts)\n",
    "\n",
    "# print(X_bow.shape, X_tfidf.shape, X_w2v)\n"
   ]
  },
  {
   "cell_type": "markdown",
   "metadata": {},
   "source": [
    "# Linear Regression with TI-IDF Word Processor"
   ]
  },
  {
   "cell_type": "code",
   "execution_count": null,
   "metadata": {},
   "outputs": [],
   "source": [
    "\n",
    "from sklearn.linear_model import LogisticRegression\n",
    "from sklearn.model_selection import train_test_split\n",
    "from sklearn.metrics import accuracy_score, classification_report\n",
    "from sklearn.preprocessing import StandardScaler\n",
    "from sklearn.svm import SVC\n",
    "\n",
    "preprocessor = TextPreprocessor()\n",
    "train_texts = train_df['text'].apply(preprocessor.clean_text)\n",
    "train_labels = train_df['label']\n",
    "\n",
    "X_train, X_test, y_train, y_test = train_test_split(train_texts, train_labels, test_size=0.2, random_state=42, stratify=train_labels)\n",
    "\n",
    "X_train_tfidf = preprocessor.get_tfidf_features(X_train)\n",
    "X_test_tfidf = preprocessor.get_tfidf_features (X_test)\n",
    "\n",
    "lr_classifier = LogisticRegression(max_iter=1000, C=5.0, penalty='l2', random_state=42 )\n",
    "\n",
    "\n",
    "\n",
    "lr_classifier.fit(X_train_tfidf, y_train)\n",
    "\n",
    "\n",
    "y_pred = lr_classifier.predict(X_test_tfidf)\n",
    "\n",
    "\n",
    "accuracy = accuracy_score(y_test, y_pred)\n",
    "print(f\"Accuracy: {accuracy * 100:.2f}%\")\n",
    "\n",
    "\n",
    "print(\"\\nClassification Report:\")\n",
    "print(classification_report(y_test, y_pred))\n",
    "\n"
   ]
  },
  {
   "cell_type": "markdown",
   "metadata": {},
   "source": [
    "# Linear Regression with BOW"
   ]
  },
  {
   "cell_type": "code",
   "execution_count": null,
   "metadata": {},
   "outputs": [],
   "source": [
    "from sklearn.linear_model import LogisticRegression\n",
    "from sklearn.model_selection import train_test_split\n",
    "from sklearn.metrics import accuracy_score, classification_report\n",
    "\n",
    "\n",
    "preprocessor = TextPreprocessor()\n",
    "train_texts = train_df['text'].apply(preprocessor.clean_text)\n",
    "train_labels = train_df['label']\n",
    "\n",
    "X_train, X_test, y_train, y_test = train_test_split(train_texts, train_labels, test_size=0.2, random_state=42, stratify=train_labels)\n",
    "\n",
    "X_train_tfidf = preprocessor.get_bow_features(X_train)\n",
    "X_test_tfidf = preprocessor.get_bow_features (X_test)\n",
    "\n",
    "lr_classifier = LogisticRegression(max_iter=1000, C=5.0, penalty='l2', random_state=42 )\n",
    "\n",
    "\n",
    "\n",
    "lr_classifier.fit(X_train_tfidf, y_train)\n",
    "\n",
    "\n",
    "y_pred = lr_classifier.predict(X_test_tfidf)\n",
    "\n",
    "\n",
    "accuracy = accuracy_score(y_test, y_pred)\n",
    "print(f\"Accuracy: {accuracy * 100:.2f}%\")\n",
    "\n",
    "\n",
    "print(\"\\nClassification Report:\")\n",
    "print(classification_report(y_test, y_pred))\n",
    "\n"
   ]
  },
  {
   "cell_type": "markdown",
   "metadata": {},
   "source": [
    "# SVC Model"
   ]
  },
  {
   "cell_type": "code",
   "execution_count": null,
   "metadata": {},
   "outputs": [],
   "source": [
    "from sklearn.svm import SVC\n",
    "from sklearn.metrics import accuracy_score, classification_report\n",
    "from sklearn.model_selection import train_test_split\n",
    "\n",
    "train_texts = train_df['text'].apply(preprocessor.clean_text)\n",
    "train_labels = train_df['label']\n",
    "\n",
    "\n",
    "X_train, X_test, y_train, y_test = train_test_split(train_texts, train_labels, test_size=0.2, random_state=42, stratify=train_labels)\n",
    "\n",
    "X_train_tfidf = preprocessor.get_bow_features(X_train)\n",
    "X_test_tfidf = preprocessor.get_bow_features(X_test)\n",
    "\n",
    "\n",
    "svm_clf = SVC(kernel='linear', C=5.0, max_iter=100)  \n",
    "svm_clf.fit(X_train_tfidf, y_train)\n",
    "\n",
    "\n",
    "y_pred = svm_clf.predict(X_test_tfidf)\n",
    "\n",
    "\n",
    "accuracy = accuracy_score(y_test, y_pred)\n",
    "print(f\"Accuracy: {accuracy * 100:.2f}%\")\n",
    "print(classification_report(y_test, y_pred))\n"
   ]
  }
 ],
 "metadata": {
  "kernelspec": {
   "display_name": "Python 3",
   "language": "python",
   "name": "python3"
  },
  "language_info": {
   "codemirror_mode": {
    "name": "ipython",
    "version": 3
   },
   "file_extension": ".py",
   "mimetype": "text/x-python",
   "name": "python",
   "nbconvert_exporter": "python",
   "pygments_lexer": "ipython3",
   "version": "3.11.8"
  }
 },
 "nbformat": 4,
 "nbformat_minor": 2
}
